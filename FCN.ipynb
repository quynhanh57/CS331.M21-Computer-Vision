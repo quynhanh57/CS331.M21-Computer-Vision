{
  "nbformat": 4,
  "nbformat_minor": 0,
  "metadata": {
    "colab": {
      "name": "CS331_18_5_2022.ipynb",
      "provenance": []
    },
    "kernelspec": {
      "name": "python3",
      "display_name": "Python 3"
    },
    "language_info": {
      "name": "python"
    },
    "accelerator": "GPU"
  },
  "cells": [
    {
      "cell_type": "code",
      "source": [
        "from google.colab import drive\n",
        "drive.mount('/content/drive')"
      ],
      "metadata": {
        "colab": {
          "base_uri": "https://localhost:8080/"
        },
        "id": "ktIfeKL2nV_S",
        "outputId": "8a25408e-5a21-4ed6-fd59-81d6c76b58d8"
      },
      "execution_count": null,
      "outputs": [
        {
          "output_type": "stream",
          "name": "stdout",
          "text": [
            "Mounted at /content/drive\n"
          ]
        }
      ]
    },
    {
      "cell_type": "code",
      "source": [
        "!mkdir /content/drive/MyDrive/CS331/"
      ],
      "metadata": {
        "id": "dAX3GacbnZjP"
      },
      "execution_count": null,
      "outputs": []
    },
    {
      "cell_type": "code",
      "execution_count": null,
      "metadata": {
        "colab": {
          "base_uri": "https://localhost:8080/"
        },
        "id": "Q3ygSzcr3iVO",
        "outputId": "b819b4ff-5162-4d2a-fa97-7f31fc4f757e"
      },
      "outputs": [
        {
          "output_type": "stream",
          "name": "stdout",
          "text": [
            "/content/drive/MyDrive/CS331\n"
          ]
        }
      ],
      "source": [
        "%cd /content/drive/MyDrive/CS331/"
      ]
    },
    {
      "cell_type": "code",
      "source": [
        "!wget https://s3-ap-northeast-1.amazonaws.com/leapmind-public-storage/datasets/camvid.tgz"
      ],
      "metadata": {
        "colab": {
          "base_uri": "https://localhost:8080/"
        },
        "id": "7oYZYibn4HcT",
        "outputId": "fd77ae0b-5529-4272-8692-c18055a20659"
      },
      "execution_count": null,
      "outputs": [
        {
          "output_type": "stream",
          "name": "stdout",
          "text": [
            "--2022-06-21 14:15:38--  https://s3-ap-northeast-1.amazonaws.com/leapmind-public-storage/datasets/camvid.tgz\n",
            "Resolving s3-ap-northeast-1.amazonaws.com (s3-ap-northeast-1.amazonaws.com)... 52.219.152.104\n",
            "Connecting to s3-ap-northeast-1.amazonaws.com (s3-ap-northeast-1.amazonaws.com)|52.219.152.104|:443... connected.\n",
            "HTTP request sent, awaiting response... 200 OK\n",
            "Length: 186726299 (178M) [application/gzip]\n",
            "Saving to: ‘camvid.tgz’\n",
            "\n",
            "camvid.tgz          100%[===================>] 178.08M  26.7MB/s    in 7.7s    \n",
            "\n",
            "2022-06-21 14:15:46 (23.1 MB/s) - ‘camvid.tgz’ saved [186726299/186726299]\n",
            "\n"
          ]
        }
      ]
    },
    {
      "cell_type": "code",
      "source": [
        "!tar -xzf camvid.tgz"
      ],
      "metadata": {
        "id": "dbGy9PYX4dt8"
      },
      "execution_count": null,
      "outputs": []
    },
    {
      "cell_type": "code",
      "source": [
        "import os\n",
        "import glob"
      ],
      "metadata": {
        "id": "06vpos_Y5iZu"
      },
      "execution_count": null,
      "outputs": []
    },
    {
      "cell_type": "code",
      "source": [
        "data_path = '/content/drive/MyDrive/CS331/CamVid/'"
      ],
      "metadata": {
        "id": "BD3MJz_14jIH"
      },
      "execution_count": null,
      "outputs": []
    },
    {
      "cell_type": "code",
      "source": [
        "train_img_paths = glob.glob(os.path.join(data_path, 'train/*'))\n",
        "val_img_paths = glob.glob(os.path.join(data_path, 'val/*'))\n",
        "test_img_paths = glob.glob(os.path.join(data_path, 'test/*'))\n",
        "\n",
        "train_mask_paths = glob.glob(os.path.join(data_path, 'trainannot/*'))\n",
        "val_mask_paths = glob.glob(os.path.join(data_path, 'valannot/*'))\n",
        "test_mask_paths = glob.glob(os.path.join(data_path, 'testannot/*'))\n",
        "\n",
        "print('Len train:', len(train_img_paths))\n",
        "print('Len val:', len(val_img_paths))\n",
        "print('Len test:', len(test_img_paths))"
      ],
      "metadata": {
        "colab": {
          "base_uri": "https://localhost:8080/"
        },
        "id": "Tvs4pv8A4350",
        "outputId": "85339781-db15-44c7-9877-f545d7e3536f"
      },
      "execution_count": null,
      "outputs": [
        {
          "output_type": "stream",
          "name": "stdout",
          "text": [
            "Len train: 367\n",
            "Len val: 101\n",
            "Len test: 233\n"
          ]
        }
      ]
    },
    {
      "cell_type": "code",
      "source": [
        "import torch.nn as nn\n",
        "import cv2\n",
        "import numpy as np\n",
        "from tqdm import tqdm_notebook"
      ],
      "metadata": {
        "id": "AlaAxKO254mV"
      },
      "execution_count": null,
      "outputs": []
    },
    {
      "cell_type": "code",
      "source": [
        "def normalize_negative_one(img):\n",
        "    normalized_input = (img - np.amin(img)) / (np.amax(img) - np.amin(img))\n",
        "    return 2*normalized_input - 1"
      ],
      "metadata": {
        "id": "wbuZDHFw8QxP"
      },
      "execution_count": null,
      "outputs": []
    },
    {
      "cell_type": "code",
      "source": [
        "# Load data\n",
        "height, width, _ = 224, 224, 3\n",
        "n_classes = 12\n",
        "\n",
        "# Train\n",
        "N_train = len(train_img_paths)\n",
        "np_train_images = np.zeros((N_train, height, width, 3))\n",
        "for idx, img_path in enumerate(train_img_paths):\n",
        "    image = cv2.imread(img_path)\n",
        "    image = cv2.resize(image, (height, width))\n",
        "    np_train_images[idx] = normalize_negative_one(image)\n",
        "\n",
        "np_train_masks = np.zeros((N_train, height, width, n_classes))\n",
        "for idx, mask_path in enumerate(train_mask_paths):\n",
        "    mask = cv2.imread(mask_path, 1)\n",
        "    mask = cv2.resize(mask, (height, width))[:,:,0]\n",
        "    for c in range(n_classes):\n",
        "        np_train_masks[idx][:, :, c] = (mask == c).astype(int)\n",
        "\n",
        "# Val\n",
        "N_val = len(val_img_paths)\n",
        "np_val_images = np.zeros((N_val, height, width, 3))\n",
        "for idx, img_path in enumerate(val_img_paths):\n",
        "    image = cv2.imread(img_path)\n",
        "    image = cv2.resize(image, (height, width))\n",
        "    np_val_images[idx] = normalize_negative_one(image)\n",
        "\n",
        "np_val_masks = np.zeros((N_val, height, width, n_classes))\n",
        "for idx, mask_path in enumerate(val_mask_paths):\n",
        "    mask = cv2.imread(mask_path, 1)\n",
        "    mask = cv2.resize(mask, (height, width))[:,:,0]\n",
        "    for c in range(n_classes):\n",
        "        np_val_masks[idx][:, :, c] = (mask == c).astype(int)\n",
        "\n",
        "# Test\n",
        "N_test = len(test_img_paths)\n",
        "np_test_images = np.zeros((N_test, height, width, 3))\n",
        "for idx, img_path in enumerate(test_img_paths):\n",
        "    image = cv2.imread(img_path)\n",
        "    image = cv2.resize(image, (height, width))\n",
        "    np_test_images[idx] = normalize_negative_one(image)\n",
        "\n",
        "np_test_masks = np.zeros((N_test, height, width, n_classes))\n",
        "for idx, mask_path in enumerate(test_mask_paths):\n",
        "    mask = cv2.imread(mask_path, 1)\n",
        "    mask = cv2.resize(mask, (height, width))[:,:,0]\n",
        "    for c in range(n_classes):\n",
        "        np_test_masks[idx][:, :, c] = (mask == c).astype(int)"
      ],
      "metadata": {
        "id": "lH-OqUoE6PK8"
      },
      "execution_count": null,
      "outputs": []
    },
    {
      "cell_type": "code",
      "source": [
        "class FCN8s():\n",
        "    def __init__(self, num_classes):\n",
        "        self.num_classes = num_classes\n",
        "        return None\n",
        "    \n",
        "    def build(self):\n",
        "        img_input = Input(shape=(224, 224, 3))\n",
        "\n",
        "        # BOTTOM UP\n",
        "        # Block 1\n",
        "        x = Conv2D(64, (3,3), activation='relu', padding='same', name='block1_conv1')(img_input)\n",
        "        x = Conv2D(64, (3,3), activation='relu', padding='same', name='block1_conv2')(x)\n",
        "        pool1 = MaxPooling2D(pool_size = (2, 2), name = 'block1_pool')(x)\n",
        "\n",
        "        # Block 2\n",
        "        x = Conv2D(128, (3,3), activation='relu', padding='same', name='block2_conv1')(pool1)\n",
        "        x = Conv2D(128, (3,3), activation='relu', padding='same', name='block2_conv2')(x)\n",
        "        pool2 = MaxPooling2D(pool_size = (2, 2), name = 'block2_pool')(x)\n",
        "\n",
        "        # Block 3\n",
        "        x = Conv2D(256, (3,3), activation='relu', padding='same', name='block3_conv1')(pool2)\n",
        "        x = Conv2D(256, (3,3), activation='relu', padding='same', name='block3_conv2')(x)\n",
        "        x = Conv2D(256, (3,3), activation='relu', padding='same', name='block3_conv3')(x)\n",
        "        pool3 = MaxPooling2D(pool_size = (2, 2), name = 'block3_pool')(x)\n",
        "\n",
        "        # Block 4\n",
        "        x = Conv2D(512, (3,3), activation='relu', padding='same', name='block4_conv1')(pool3)\n",
        "        x = Conv2D(512, (3,3), activation='relu', padding='same', name='block4_conv2')(x)\n",
        "        x = Conv2D(512, (3,3), activation='relu', padding='same', name='block4_conv3')(x)\n",
        "        pool4 = MaxPooling2D(pool_size = (2, 2), name = 'block4_pool')(x)\n",
        "\n",
        "        # Block 5\n",
        "        x = Conv2D(512, (3,3), activation='relu', padding='same', name='block5_conv1')(pool4)\n",
        "        x = Conv2D(512, (3,3), activation='relu', padding='same', name='block5_conv2')(x)\n",
        "        x = Conv2D(512, (3,3), activation='relu', padding='same', name='block5_conv3')(x)\n",
        "        pool5 = MaxPooling2D(pool_size = (2, 2), name = 'block5_pool')(x)\n",
        "\n",
        "        # Conv6-7\n",
        "        conv6 = Conv2D(4096, (7,7), activation='relu', padding='same', name='conv6')(pool5)\n",
        "        conv6 = Dropout(0.1)(conv6)\n",
        "        conv7 = Conv2D(4096, (1,1), activation='relu', padding='same', name='conv7')(conv6)\n",
        "        conv7 = Dropout(0.1)(conv7)\n",
        "\n",
        "        # TOP DOWN\n",
        "\n",
        "        pool3 = Conv2D(self.num_classes, (1, 1))(pool3)\n",
        "        pool4_2x = UpSampling2D(size=(2, 2))(pool4)\n",
        "        pool4_2x = Conv2D(self.num_classes, (1, 1))(pool4_2x)\n",
        "        conv7_4x = UpSampling2D(size=(4, 4))(conv7)\n",
        "        conv7_4x = Conv2D(self.num_classes, (1, 1))(conv7_4x)\n",
        "\n",
        "        output = Add()([pool3, pool4_2x, conv7_4x])\n",
        "        output = UpSampling2D(size=(8, 8))(output)\n",
        "        output = Conv2D(self.num_classes, (1, 1))(output)\n",
        "        output = Softmax()(output)\n",
        "        self.model = Model(inputs=img_input, outputs=output)\n",
        "    \n",
        "    def summary(self):\n",
        "        self.model.summary()"
      ],
      "metadata": {
        "id": "sjDqxnW7f_o5"
      },
      "execution_count": null,
      "outputs": []
    },
    {
      "cell_type": "markdown",
      "source": [
        "## FCN32s - 16s - 8s"
      ],
      "metadata": {
        "id": "iSunx4ZaLFHf"
      }
    },
    {
      "cell_type": "code",
      "source": [
        "from keras.layers import Conv2D, Input, MaxPooling2D, Conv2DTranspose, Dropout, Add, UpSampling2D, Softmax, Reshape, Activation, Concatenate\n",
        "from keras import Model, losses, optimizers\n",
        "import tensorflow as tf"
      ],
      "metadata": {
        "id": "gi5o_VjdE_cj"
      },
      "execution_count": null,
      "outputs": []
    },
    {
      "cell_type": "code",
      "source": [
        "class FCN_backbone_VGG16():\n",
        "    def __init__(self, num_classes):\n",
        "        self.num_classes = num_classes\n",
        "        self.vgg16_model = tf.keras.applications.VGG16(\n",
        "            include_top=False,\n",
        "            weights='imagenet', input_tensor=Input(shape=(224, 224, 3))\n",
        "        )\n",
        "\n",
        "    def build_fcn32s(self):\n",
        "        # img_input = Input(shape=(224, 224, 3))\n",
        "        out = Conv2D(filters=4096, kernel_size = (7, 7), padding=\"same\", activation=\"relu\", name=\"fc6\")(self.vgg16_model.output)\n",
        "        out = Dropout(rate=0.5)(out)\n",
        "        out = Conv2D(filters=4096, kernel_size = (1, 1), padding=\"same\", activation=\"relu\", name=\"fc7\")(out)\n",
        "        out = Dropout(rate=0.5)(out)\n",
        "        out32s = Conv2D(filters=self.num_classes, kernel_size=(1, 1), padding=\"same\", activation=\"relu\", kernel_initializer=\"he_normal\", name=\"score_fr\")(out)\n",
        "        out = Conv2DTranspose(filters=self.num_classes, kernel_size=(32, 32), strides=(32, 32), padding=\"valid\", activation=None, name=\"score2\")(out32s)\n",
        "        out = Reshape((-1, self.num_classes))(out)\n",
        "        out = Activation(\"softmax\")(out)\n",
        "        \n",
        "        fcn32s = Model(inputs=self.vgg16_model.input, outputs=out32s)\n",
        "        self.model = Model(inputs=self.vgg16_model.input, outputs=out)\n",
        "        return fcn32s\n",
        "    \n",
        "    def build_fcn16s(self):\n",
        "        fcn32s = self.build_fcn32s()\n",
        "        # 2x conv7 output\n",
        "        out = Conv2DTranspose(filters=self.num_classes, kernel_size=(2, 2), strides=(2, 2), padding=\"valid\", activation=None, name=\"fcn32_upsamp2x\")(fcn32s.output) # 28x28x12\n",
        "        out = Conv2D(self.num_classes, kernel_size=(1,1), padding=\"same\", activation='relu', name=\"score_fcn32_upsamp2x\")(out)\n",
        "        # score conv pool4 output\n",
        "        pool4 = Conv2D(self.num_classes, kernel_size=(1,1), padding=\"same\", activation='relu', name=\"score_pool4\")(fcn32s.get_layer(\"block4_pool\").output)\n",
        "        # skip connection\n",
        "        skip_conv1 = Add()([out, pool4])\n",
        "        # score conv skip\n",
        "        out16s = Conv2D(self.num_classes, kernel_size=(1,1), padding=\"same\", activation='relu', name=\"score_skip_conv1\")(skip_conv1)\n",
        "        out = Conv2DTranspose(self.num_classes, kernel_size=(16, 16), strides=(16, 16), padding=\"valid\", activation=None, name=\"output_fcn16s\")(out16s)\n",
        "        out = Reshape((-1, self.num_classes))(out)\n",
        "        out = Activation(\"softmax\")(out)\n",
        "\n",
        "        fcn16s = Model(inputs=fcn32s.input, outputs=out16s)\n",
        "        self.model = Model(inputs=fcn32s.input, outputs=out)\n",
        "        return fcn16s\n",
        "\n",
        "    def build_fcn8s(self):\n",
        "        # build fcn16s truoc\n",
        "        fcn16s = self.build_fcn16s()\n",
        "        out = Conv2DTranspose(self.num_classes, kernel_size=(2, 2), strides=(2, 2), padding=\"valid\", name=\"fcn16_upsamp2x\", activation=None)(fcn16s.output)\n",
        "        out = Conv2D(self.num_classes, kernel_size=(1,1), padding=\"same\", activation='relu', name=\"score_fcn16_upsamp2x\")(out)\n",
        "        \n",
        "        pool3 = Conv2D(self.num_classes, kernel_size=(1,1), padding=\"same\", activation='relu', name=\"score_pool3\")(fcn16s.get_layer(\"block3_pool\").output)\n",
        "        # skip connection\n",
        "        skip_conv2 = Add()([out, pool3])\n",
        "        # score conv skip\n",
        "        out8s = Conv2D(self.num_classes, kernel_size=(1,1), activation='relu', padding=\"same\", name=\"score_skip_conv2\")(skip_conv2)\n",
        "        out = Conv2DTranspose(self.num_classes, kernel_size=(8, 8), strides=(8, 8), padding=\"valid\", activation=None, name=\"output_fcn8s\")(out8s)\n",
        "        out = Reshape((-1, self.num_classes))(out)\n",
        "        out_final = Activation(\"softmax\")(out)\n",
        "        self.model = Model(inputs=fcn16s.input, outputs=out_final)\n",
        "\n",
        "    def summary(self):\n",
        "        self.model.summary()\n",
        "    def complie(self, loss=None):\n",
        "        optimizer = tf.keras.optimizers.SGD(learning_rate=1e-2)\n",
        "        self.model.compile(optimizer=optimizer, \n",
        "                           loss=losses.CategoricalCrossentropy())\n",
        "    def fit(self, X_train, y_train, X_val, y_val, epochs, batch_size):\n",
        "        self.model.fit(X_train, y_train, validation_data=(X_val, y_val), \n",
        "                       epochs=epochs, batch_size=batch_size)"
      ],
      "metadata": {
        "id": "Zav0XLe_BsWt"
      },
      "execution_count": null,
      "outputs": []
    },
    {
      "cell_type": "code",
      "source": [
        "model = FCN_backbone_VGG16(num_classes=12)\n",
        "model.build_fcn8s()\n",
        "model.complie()\n",
        "model.summary()"
      ],
      "metadata": {
        "id": "51mOD4s_PzCc",
        "colab": {
          "base_uri": "https://localhost:8080/"
        },
        "outputId": "f6988df1-61be-4eaa-93c7-76455b088918"
      },
      "execution_count": null,
      "outputs": [
        {
          "output_type": "stream",
          "name": "stdout",
          "text": [
            "Model: \"model_4\"\n",
            "__________________________________________________________________________________________________\n",
            " Layer (type)                   Output Shape         Param #     Connected to                     \n",
            "==================================================================================================\n",
            " input_1 (InputLayer)           [(None, 224, 224, 3  0           []                               \n",
            "                                )]                                                                \n",
            "                                                                                                  \n",
            " block1_conv1 (Conv2D)          (None, 224, 224, 64  1792        ['input_1[0][0]']                \n",
            "                                )                                                                 \n",
            "                                                                                                  \n",
            " block1_conv2 (Conv2D)          (None, 224, 224, 64  36928       ['block1_conv1[0][0]']           \n",
            "                                )                                                                 \n",
            "                                                                                                  \n",
            " block1_pool (MaxPooling2D)     (None, 112, 112, 64  0           ['block1_conv2[0][0]']           \n",
            "                                )                                                                 \n",
            "                                                                                                  \n",
            " block2_conv1 (Conv2D)          (None, 112, 112, 12  73856       ['block1_pool[0][0]']            \n",
            "                                8)                                                                \n",
            "                                                                                                  \n",
            " block2_conv2 (Conv2D)          (None, 112, 112, 12  147584      ['block2_conv1[0][0]']           \n",
            "                                8)                                                                \n",
            "                                                                                                  \n",
            " block2_pool (MaxPooling2D)     (None, 56, 56, 128)  0           ['block2_conv2[0][0]']           \n",
            "                                                                                                  \n",
            " block3_conv1 (Conv2D)          (None, 56, 56, 256)  295168      ['block2_pool[0][0]']            \n",
            "                                                                                                  \n",
            " block3_conv2 (Conv2D)          (None, 56, 56, 256)  590080      ['block3_conv1[0][0]']           \n",
            "                                                                                                  \n",
            " block3_conv3 (Conv2D)          (None, 56, 56, 256)  590080      ['block3_conv2[0][0]']           \n",
            "                                                                                                  \n",
            " block3_pool (MaxPooling2D)     (None, 28, 28, 256)  0           ['block3_conv3[0][0]']           \n",
            "                                                                                                  \n",
            " block4_conv1 (Conv2D)          (None, 28, 28, 512)  1180160     ['block3_pool[0][0]']            \n",
            "                                                                                                  \n",
            " block4_conv2 (Conv2D)          (None, 28, 28, 512)  2359808     ['block4_conv1[0][0]']           \n",
            "                                                                                                  \n",
            " block4_conv3 (Conv2D)          (None, 28, 28, 512)  2359808     ['block4_conv2[0][0]']           \n",
            "                                                                                                  \n",
            " block4_pool (MaxPooling2D)     (None, 14, 14, 512)  0           ['block4_conv3[0][0]']           \n",
            "                                                                                                  \n",
            " block5_conv1 (Conv2D)          (None, 14, 14, 512)  2359808     ['block4_pool[0][0]']            \n",
            "                                                                                                  \n",
            " block5_conv2 (Conv2D)          (None, 14, 14, 512)  2359808     ['block5_conv1[0][0]']           \n",
            "                                                                                                  \n",
            " block5_conv3 (Conv2D)          (None, 14, 14, 512)  2359808     ['block5_conv2[0][0]']           \n",
            "                                                                                                  \n",
            " block5_pool (MaxPooling2D)     (None, 7, 7, 512)    0           ['block5_conv3[0][0]']           \n",
            "                                                                                                  \n",
            " fc6 (Conv2D)                   (None, 7, 7, 4096)   102764544   ['block5_pool[0][0]']            \n",
            "                                                                                                  \n",
            " dropout (Dropout)              (None, 7, 7, 4096)   0           ['fc6[0][0]']                    \n",
            "                                                                                                  \n",
            " fc7 (Conv2D)                   (None, 7, 7, 4096)   16781312    ['dropout[0][0]']                \n",
            "                                                                                                  \n",
            " dropout_1 (Dropout)            (None, 7, 7, 4096)   0           ['fc7[0][0]']                    \n",
            "                                                                                                  \n",
            " score_fr (Conv2D)              (None, 7, 7, 12)     49164       ['dropout_1[0][0]']              \n",
            "                                                                                                  \n",
            " fcn32_upsamp2x (Conv2DTranspos  (None, 14, 14, 12)  588         ['score_fr[0][0]']               \n",
            " e)                                                                                               \n",
            "                                                                                                  \n",
            " score_fcn32_upsamp2x (Conv2D)  (None, 14, 14, 12)   156         ['fcn32_upsamp2x[0][0]']         \n",
            "                                                                                                  \n",
            " score_pool4 (Conv2D)           (None, 14, 14, 12)   6156        ['block4_pool[0][0]']            \n",
            "                                                                                                  \n",
            " add (Add)                      (None, 14, 14, 12)   0           ['score_fcn32_upsamp2x[0][0]',   \n",
            "                                                                  'score_pool4[0][0]']            \n",
            "                                                                                                  \n",
            " score_skip_conv1 (Conv2D)      (None, 14, 14, 12)   156         ['add[0][0]']                    \n",
            "                                                                                                  \n",
            " fcn16_upsamp2x (Conv2DTranspos  (None, 28, 28, 12)  588         ['score_skip_conv1[0][0]']       \n",
            " e)                                                                                               \n",
            "                                                                                                  \n",
            " score_fcn16_upsamp2x (Conv2D)  (None, 28, 28, 12)   156         ['fcn16_upsamp2x[0][0]']         \n",
            "                                                                                                  \n",
            " score_pool3 (Conv2D)           (None, 28, 28, 12)   3084        ['block3_pool[0][0]']            \n",
            "                                                                                                  \n",
            " add_1 (Add)                    (None, 28, 28, 12)   0           ['score_fcn16_upsamp2x[0][0]',   \n",
            "                                                                  'score_pool3[0][0]']            \n",
            "                                                                                                  \n",
            " score_skip_conv2 (Conv2D)      (None, 28, 28, 12)   156         ['add_1[0][0]']                  \n",
            "                                                                                                  \n",
            " output_fcn8s (Conv2DTranspose)  (None, 224, 224, 12  9228       ['score_skip_conv2[0][0]']       \n",
            "                                )                                                                 \n",
            "                                                                                                  \n",
            " reshape_2 (Reshape)            (None, 50176, 12)    0           ['output_fcn8s[0][0]']           \n",
            "                                                                                                  \n",
            " activation_2 (Activation)      (None, 50176, 12)    0           ['reshape_2[0][0]']              \n",
            "                                                                                                  \n",
            "==================================================================================================\n",
            "Total params: 134,329,976\n",
            "Trainable params: 134,329,976\n",
            "Non-trainable params: 0\n",
            "__________________________________________________________________________________________________\n"
          ]
        }
      ]
    },
    {
      "cell_type": "code",
      "source": [
        "np_train_masks_reshaped = np_train_masks.reshape(np_train_masks.shape[0], -1, 12)\n",
        "np_val_masks_reshaped = np_val_masks.reshape(np_val_masks.shape[0], -1, 12)"
      ],
      "metadata": {
        "id": "CkGFu5DwvIn3"
      },
      "execution_count": null,
      "outputs": []
    },
    {
      "cell_type": "code",
      "source": [
        "history = model.fit(X_train=np_train_images, y_train=np_train_masks_reshaped, \\\n",
        "                    X_val=np_val_images, y_val=np_val_masks_reshaped, epochs=100, batch_size=32)"
      ],
      "metadata": {
        "id": "qgkZ9YXIlJbl"
      },
      "execution_count": null,
      "outputs": []
    },
    {
      "cell_type": "markdown",
      "source": [
        "## UNet"
      ],
      "metadata": {
        "id": "Cd1KMriWLIPh"
      }
    },
    {
      "cell_type": "code",
      "source": [
        "class Unet_backbone_VGG16():\n",
        "    def __init__(self, num_classes):\n",
        "        self.num_classes = num_classes\n",
        "        self.vgg16_model = tf.keras.applications.VGG16(\n",
        "            include_top=False,\n",
        "            weights='imagenet', input_tensor=Input(shape=(224, 224, 3))\n",
        "        )\n",
        "        return None\n",
        "    def build(self):\n",
        "        backbone_network = self.vgg16_model\n",
        "        conv6 = Conv2D(filters=512, kernel_size = (7, 7), padding=\"same\", activation=\"relu\", name=\"fc6\")(backbone_network.output)\n",
        "        conv6 = Dropout(rate=0.5)(conv6)\n",
        "        conv7 = Conv2D(filters=1024, kernel_size = (1, 1), padding=\"same\", activation=\"relu\", name=\"fc7\")(conv6)\n",
        "        conv7 = Dropout(rate=0.5)(conv7)\n",
        "\n",
        "        # Top-Down\n",
        "        up6 = Conv2DTranspose(filters=512, kernel_size=(4,4), strides=(4,4), padding=\"valid\", activation=None, name=\"up6\")(conv7)\n",
        "        up6 = Conv2D(filters=512, kernel_size=(2,2), padding=\"same\", activation='relu', name=\"conv1_up6\")(up6)\n",
        "        skipconnect6 = Concatenate(axis=-1)([up6, backbone_network.get_layer(\"block4_conv3\").output])\n",
        "        up6 = Conv2D(filters=512, kernel_size=(3,3), padding=\"same\", activation='relu', name=\"conv2_up6\")(skipconnect6)\n",
        "        up6 = Conv2D(filters=512, kernel_size=(3,3), padding=\"same\", activation='relu', name=\"conv3_up6\")(up6)\n",
        "\n",
        "        up7 = Conv2DTranspose(filters=256, kernel_size=(2,2), strides=(2,2), padding=\"valid\", activation=None, name=\"up7\")(up6)\n",
        "        up7 = Conv2D(filters=256, kernel_size=(2,2), padding=\"same\", activation='relu', name=\"conv1_up7\")(up7)\n",
        "        skipconnect7 = Concatenate(axis=-1)([up7, backbone_network.get_layer(\"block3_conv3\").output])\n",
        "        up7 = Conv2D(filters=256, kernel_size=(3,3), padding=\"same\", activation=\"relu\", name=\"conv2_up7\")(skipconnect7)\n",
        "        up7 = Conv2D(filters=256, kernel_size=(3,3), padding=\"same\", activation=\"relu\", name=\"conv3_up7\")(up7)\n",
        "\n",
        "        up8 = Conv2DTranspose(filters=128, kernel_size=(2,2), strides=(2,2), padding=\"valid\", activation=None, name=\"up8\")(up7)\n",
        "        up8 = Conv2D(filters=128, kernel_size=(2,2), padding=\"same\", activation='relu', name=\"conv1_up8\")(up8)\n",
        "        skipconnect8 = Concatenate(axis=-1)([up8, backbone_network.get_layer(\"block2_conv2\").output])\n",
        "        up8 = Conv2D(filters=128, kernel_size=(3,3), padding=\"same\", activation=\"relu\", name=\"conv2_up8\")(skipconnect8)\n",
        "        up8 = Conv2D(filters=128, kernel_size=(3,3), padding=\"same\", activation=\"relu\", name=\"conv3_up8\")(up8)\n",
        "\n",
        "        up9 = Conv2DTranspose(filters=64, kernel_size=(2,2), strides=(2,2), padding=\"valid\", activation=None, name=\"up9\")(up8)\n",
        "        up9 = Conv2D(filters=64, kernel_size=(2,2), padding=\"same\", activation='relu', name=\"conv1_up9\")(up9)\n",
        "        skipconnect9 = Concatenate(axis=-1)([up9, backbone_network.get_layer(\"block1_conv2\").output])\n",
        "        up9 = Conv2D(filters=64, kernel_size=(3,3), padding=\"same\", activation=\"relu\", name=\"conv2_up9\")(skipconnect9)\n",
        "        up9 = Conv2D(filters=64, kernel_size=(3,3), padding=\"same\", activation=\"relu\", name=\"conv3_up9\")(up9)\n",
        "\n",
        "        out = Conv2D(filters=self.num_classes, kernel_size=(1,1), padding=\"same\", activation=\"relu\", name=\"output\")(up9)\n",
        "        out = Reshape((-1, self.num_classes))(out)\n",
        "        out = Activation(\"softmax\")(out)\n",
        "\n",
        "        self.model = Model(inputs=backbone_network.input, outputs=out)\n",
        "    \n",
        "    def complie(self, loss=None):\n",
        "        optimizer = tf.keras.optimizers.SGD(learning_rate=1e-3)\n",
        "        self.model.compile(optimizer=optimizer, \n",
        "                           loss=losses.CategoricalCrossentropy())\n",
        "    \n",
        "    def summary(self):\n",
        "        self.model.summary()\n",
        "\n",
        "    def fit(self, X_train, y_train, X_val, y_val, epochs, batch_size):\n",
        "        self.model.fit(X_train, y_train, validation_data=(X_val, y_val), \n",
        "                       epochs=epochs, batch_size=batch_size)"
      ],
      "metadata": {
        "id": "pQhBg7jbLJPG"
      },
      "execution_count": null,
      "outputs": []
    },
    {
      "cell_type": "code",
      "source": [
        "model = Unet_backbone_VGG16(num_classes=12)\n",
        "model.build()\n",
        "model.complie()\n",
        "model.summary()"
      ],
      "metadata": {
        "colab": {
          "base_uri": "https://localhost:8080/"
        },
        "id": "jdlNQqrJOxCM",
        "outputId": "528c134c-86d4-440d-80f4-4b6fe463c996"
      },
      "execution_count": null,
      "outputs": [
        {
          "output_type": "stream",
          "name": "stdout",
          "text": [
            "Model: \"model_5\"\n",
            "__________________________________________________________________________________________________\n",
            " Layer (type)                   Output Shape         Param #     Connected to                     \n",
            "==================================================================================================\n",
            " input_2 (InputLayer)           [(None, 224, 224, 3  0           []                               \n",
            "                                )]                                                                \n",
            "                                                                                                  \n",
            " block1_conv1 (Conv2D)          (None, 224, 224, 64  1792        ['input_2[0][0]']                \n",
            "                                )                                                                 \n",
            "                                                                                                  \n",
            " block1_conv2 (Conv2D)          (None, 224, 224, 64  36928       ['block1_conv1[0][0]']           \n",
            "                                )                                                                 \n",
            "                                                                                                  \n",
            " block1_pool (MaxPooling2D)     (None, 112, 112, 64  0           ['block1_conv2[0][0]']           \n",
            "                                )                                                                 \n",
            "                                                                                                  \n",
            " block2_conv1 (Conv2D)          (None, 112, 112, 12  73856       ['block1_pool[0][0]']            \n",
            "                                8)                                                                \n",
            "                                                                                                  \n",
            " block2_conv2 (Conv2D)          (None, 112, 112, 12  147584      ['block2_conv1[0][0]']           \n",
            "                                8)                                                                \n",
            "                                                                                                  \n",
            " block2_pool (MaxPooling2D)     (None, 56, 56, 128)  0           ['block2_conv2[0][0]']           \n",
            "                                                                                                  \n",
            " block3_conv1 (Conv2D)          (None, 56, 56, 256)  295168      ['block2_pool[0][0]']            \n",
            "                                                                                                  \n",
            " block3_conv2 (Conv2D)          (None, 56, 56, 256)  590080      ['block3_conv1[0][0]']           \n",
            "                                                                                                  \n",
            " block3_conv3 (Conv2D)          (None, 56, 56, 256)  590080      ['block3_conv2[0][0]']           \n",
            "                                                                                                  \n",
            " block3_pool (MaxPooling2D)     (None, 28, 28, 256)  0           ['block3_conv3[0][0]']           \n",
            "                                                                                                  \n",
            " block4_conv1 (Conv2D)          (None, 28, 28, 512)  1180160     ['block3_pool[0][0]']            \n",
            "                                                                                                  \n",
            " block4_conv2 (Conv2D)          (None, 28, 28, 512)  2359808     ['block4_conv1[0][0]']           \n",
            "                                                                                                  \n",
            " block4_conv3 (Conv2D)          (None, 28, 28, 512)  2359808     ['block4_conv2[0][0]']           \n",
            "                                                                                                  \n",
            " block4_pool (MaxPooling2D)     (None, 14, 14, 512)  0           ['block4_conv3[0][0]']           \n",
            "                                                                                                  \n",
            " block5_conv1 (Conv2D)          (None, 14, 14, 512)  2359808     ['block4_pool[0][0]']            \n",
            "                                                                                                  \n",
            " block5_conv2 (Conv2D)          (None, 14, 14, 512)  2359808     ['block5_conv1[0][0]']           \n",
            "                                                                                                  \n",
            " block5_conv3 (Conv2D)          (None, 14, 14, 512)  2359808     ['block5_conv2[0][0]']           \n",
            "                                                                                                  \n",
            " block5_pool (MaxPooling2D)     (None, 7, 7, 512)    0           ['block5_conv3[0][0]']           \n",
            "                                                                                                  \n",
            " fc6 (Conv2D)                   (None, 7, 7, 512)    12845568    ['block5_pool[0][0]']            \n",
            "                                                                                                  \n",
            " dropout_2 (Dropout)            (None, 7, 7, 512)    0           ['fc6[0][0]']                    \n",
            "                                                                                                  \n",
            " fc7 (Conv2D)                   (None, 7, 7, 1024)   525312      ['dropout_2[0][0]']              \n",
            "                                                                                                  \n",
            " dropout_3 (Dropout)            (None, 7, 7, 1024)   0           ['fc7[0][0]']                    \n",
            "                                                                                                  \n",
            " up6 (Conv2DTranspose)          (None, 28, 28, 512)  8389120     ['dropout_3[0][0]']              \n",
            "                                                                                                  \n",
            " conv1_up6 (Conv2D)             (None, 28, 28, 512)  1049088     ['up6[0][0]']                    \n",
            "                                                                                                  \n",
            " concatenate (Concatenate)      (None, 28, 28, 1024  0           ['conv1_up6[0][0]',              \n",
            "                                )                                 'block4_conv3[0][0]']           \n",
            "                                                                                                  \n",
            " conv2_up6 (Conv2D)             (None, 28, 28, 512)  4719104     ['concatenate[0][0]']            \n",
            "                                                                                                  \n",
            " conv3_up6 (Conv2D)             (None, 28, 28, 512)  2359808     ['conv2_up6[0][0]']              \n",
            "                                                                                                  \n",
            " up7 (Conv2DTranspose)          (None, 56, 56, 256)  524544      ['conv3_up6[0][0]']              \n",
            "                                                                                                  \n",
            " conv1_up7 (Conv2D)             (None, 56, 56, 256)  262400      ['up7[0][0]']                    \n",
            "                                                                                                  \n",
            " concatenate_1 (Concatenate)    (None, 56, 56, 512)  0           ['conv1_up7[0][0]',              \n",
            "                                                                  'block3_conv3[0][0]']           \n",
            "                                                                                                  \n",
            " conv2_up7 (Conv2D)             (None, 56, 56, 256)  1179904     ['concatenate_1[0][0]']          \n",
            "                                                                                                  \n",
            " conv3_up7 (Conv2D)             (None, 56, 56, 256)  590080      ['conv2_up7[0][0]']              \n",
            "                                                                                                  \n",
            " up8 (Conv2DTranspose)          (None, 112, 112, 12  131200      ['conv3_up7[0][0]']              \n",
            "                                8)                                                                \n",
            "                                                                                                  \n",
            " conv1_up8 (Conv2D)             (None, 112, 112, 12  65664       ['up8[0][0]']                    \n",
            "                                8)                                                                \n",
            "                                                                                                  \n",
            " concatenate_2 (Concatenate)    (None, 112, 112, 25  0           ['conv1_up8[0][0]',              \n",
            "                                6)                                'block2_conv2[0][0]']           \n",
            "                                                                                                  \n",
            " conv2_up8 (Conv2D)             (None, 112, 112, 12  295040      ['concatenate_2[0][0]']          \n",
            "                                8)                                                                \n",
            "                                                                                                  \n",
            " conv3_up8 (Conv2D)             (None, 112, 112, 12  147584      ['conv2_up8[0][0]']              \n",
            "                                8)                                                                \n",
            "                                                                                                  \n",
            " up9 (Conv2DTranspose)          (None, 224, 224, 64  32832       ['conv3_up8[0][0]']              \n",
            "                                )                                                                 \n",
            "                                                                                                  \n",
            " conv1_up9 (Conv2D)             (None, 224, 224, 64  16448       ['up9[0][0]']                    \n",
            "                                )                                                                 \n",
            "                                                                                                  \n",
            " concatenate_3 (Concatenate)    (None, 224, 224, 12  0           ['conv1_up9[0][0]',              \n",
            "                                8)                                'block1_conv2[0][0]']           \n",
            "                                                                                                  \n",
            " conv2_up9 (Conv2D)             (None, 224, 224, 64  73792       ['concatenate_3[0][0]']          \n",
            "                                )                                                                 \n",
            "                                                                                                  \n",
            " conv3_up9 (Conv2D)             (None, 224, 224, 64  36928       ['conv2_up9[0][0]']              \n",
            "                                )                                                                 \n",
            "                                                                                                  \n",
            " output (Conv2D)                (None, 224, 224, 12  780         ['conv3_up9[0][0]']              \n",
            "                                )                                                                 \n",
            "                                                                                                  \n",
            " reshape_3 (Reshape)            (None, 50176, 12)    0           ['output[0][0]']                 \n",
            "                                                                                                  \n",
            " activation_3 (Activation)      (None, 50176, 12)    0           ['reshape_3[0][0]']              \n",
            "                                                                                                  \n",
            "==================================================================================================\n",
            "Total params: 47,959,884\n",
            "Trainable params: 47,959,884\n",
            "Non-trainable params: 0\n",
            "__________________________________________________________________________________________________\n"
          ]
        }
      ]
    },
    {
      "cell_type": "code",
      "source": [
        "np_train_masks_reshaped = np_train_masks.reshape(np_train_masks.shape[0], -1, 12)\n",
        "np_val_masks_reshaped = np_val_masks.reshape(np_val_masks.shape[0], -1, 12)"
      ],
      "metadata": {
        "id": "54nokU4Keetq"
      },
      "execution_count": null,
      "outputs": []
    },
    {
      "cell_type": "code",
      "source": [
        "history = model.fit(X_train=np_train_images, y_train=np_train_masks_reshaped, \\\n",
        "                    X_val=np_val_images, y_val=np_val_masks_reshaped, epochs=100, batch_size=32)"
      ],
      "metadata": {
        "colab": {
          "base_uri": "https://localhost:8080/"
        },
        "id": "DEPBCXLATrAX",
        "outputId": "939e5c58-1df5-4c7a-e4bb-109d013509cf"
      },
      "execution_count": null,
      "outputs": [
        {
          "output_type": "stream",
          "name": "stdout",
          "text": [
            "Epoch 1/100\n",
            "12/12 [==============================] - 19s 1s/step - loss: 2.3854 - val_loss: 2.0998\n",
            "Epoch 2/100\n",
            "12/12 [==============================] - 9s 793ms/step - loss: 1.9425 - val_loss: 2.0169\n",
            "Epoch 3/100\n",
            "12/12 [==============================] - 10s 796ms/step - loss: 1.8760 - val_loss: 1.9340\n",
            "Epoch 4/100\n",
            "12/12 [==============================] - 10s 801ms/step - loss: 1.8388 - val_loss: 1.9138\n",
            "Epoch 5/100\n",
            "12/12 [==============================] - 10s 796ms/step - loss: 1.8120 - val_loss: 1.8811\n",
            "Epoch 6/100\n",
            "12/12 [==============================] - 10s 798ms/step - loss: 1.7909 - val_loss: 1.8639\n",
            "Epoch 7/100\n",
            "12/12 [==============================] - 9s 792ms/step - loss: 1.7748 - val_loss: 1.8454\n",
            "Epoch 8/100\n",
            "12/12 [==============================] - 9s 792ms/step - loss: 1.7606 - val_loss: 1.8332\n",
            "Epoch 9/100\n",
            "12/12 [==============================] - 10s 797ms/step - loss: 1.7478 - val_loss: 1.8402\n",
            "Epoch 10/100\n",
            "12/12 [==============================] - 10s 796ms/step - loss: 1.7380 - val_loss: 1.8022\n",
            "Epoch 11/100\n",
            "12/12 [==============================] - 9s 792ms/step - loss: 1.7294 - val_loss: 1.7921\n",
            "Epoch 12/100\n",
            "12/12 [==============================] - 9s 795ms/step - loss: 1.7222 - val_loss: 1.7995\n",
            "Epoch 13/100\n",
            "12/12 [==============================] - 9s 794ms/step - loss: 1.7143 - val_loss: 1.7875\n",
            "Epoch 14/100\n",
            "12/12 [==============================] - 9s 792ms/step - loss: 1.7046 - val_loss: 1.7895\n",
            "Epoch 15/100\n",
            "12/12 [==============================] - 10s 798ms/step - loss: 1.6982 - val_loss: 1.7800\n",
            "Epoch 16/100\n",
            "12/12 [==============================] - 9s 792ms/step - loss: 1.6924 - val_loss: 1.7822\n",
            "Epoch 17/100\n",
            "12/12 [==============================] - 9s 793ms/step - loss: 1.6861 - val_loss: 1.7771\n",
            "Epoch 18/100\n",
            "12/12 [==============================] - 9s 793ms/step - loss: 1.6795 - val_loss: 1.7655\n",
            "Epoch 19/100\n",
            "12/12 [==============================] - 9s 793ms/step - loss: 1.6751 - val_loss: 1.7618\n",
            "Epoch 20/100\n",
            "12/12 [==============================] - 9s 792ms/step - loss: 1.6695 - val_loss: 1.7533\n",
            "Epoch 21/100\n",
            "12/12 [==============================] - 10s 796ms/step - loss: 1.6650 - val_loss: 1.7460\n",
            "Epoch 22/100\n",
            "12/12 [==============================] - 9s 794ms/step - loss: 1.6594 - val_loss: 1.7512\n",
            "Epoch 23/100\n",
            "12/12 [==============================] - 10s 797ms/step - loss: 1.6556 - val_loss: 1.7392\n",
            "Epoch 24/100\n",
            "12/12 [==============================] - 10s 796ms/step - loss: 1.6500 - val_loss: 1.7450\n",
            "Epoch 25/100\n",
            "12/12 [==============================] - 10s 830ms/step - loss: 1.6469 - val_loss: 1.7352\n",
            "Epoch 26/100\n",
            "12/12 [==============================] - 9s 793ms/step - loss: 1.6437 - val_loss: 1.7210\n",
            "Epoch 27/100\n",
            "12/12 [==============================] - 9s 794ms/step - loss: 1.6386 - val_loss: 1.7206\n",
            "Epoch 28/100\n",
            "12/12 [==============================] - 9s 793ms/step - loss: 1.6357 - val_loss: 1.7209\n",
            "Epoch 29/100\n",
            "12/12 [==============================] - 9s 795ms/step - loss: 1.6314 - val_loss: 1.7121\n",
            "Epoch 30/100\n",
            "12/12 [==============================] - 10s 797ms/step - loss: 1.6277 - val_loss: 1.7153\n",
            "Epoch 31/100\n",
            "12/12 [==============================] - 9s 789ms/step - loss: 1.6248 - val_loss: 1.7199\n",
            "Epoch 32/100\n",
            "12/12 [==============================] - 10s 797ms/step - loss: 1.6209 - val_loss: 1.7168\n",
            "Epoch 33/100\n",
            "12/12 [==============================] - 9s 795ms/step - loss: 1.6180 - val_loss: 1.7020\n",
            "Epoch 34/100\n",
            "12/12 [==============================] - 9s 794ms/step - loss: 1.6140 - val_loss: 1.6988\n",
            "Epoch 35/100\n",
            "12/12 [==============================] - 10s 797ms/step - loss: 1.6120 - val_loss: 1.6944\n",
            "Epoch 36/100\n",
            "12/12 [==============================] - 9s 793ms/step - loss: 1.6082 - val_loss: 1.6894\n",
            "Epoch 37/100\n",
            "12/12 [==============================] - 9s 795ms/step - loss: 1.6065 - val_loss: 1.6970\n",
            "Epoch 38/100\n",
            "12/12 [==============================] - 9s 794ms/step - loss: 1.6027 - val_loss: 1.7046\n",
            "Epoch 39/100\n",
            "12/12 [==============================] - 10s 798ms/step - loss: 1.5997 - val_loss: 1.6935\n",
            "Epoch 40/100\n",
            "12/12 [==============================] - 10s 797ms/step - loss: 1.5970 - val_loss: 1.7004\n",
            "Epoch 41/100\n",
            "12/12 [==============================] - 10s 796ms/step - loss: 1.5945 - val_loss: 1.6844\n",
            "Epoch 42/100\n",
            "12/12 [==============================] - 10s 796ms/step - loss: 1.5917 - val_loss: 1.6850\n",
            "Epoch 43/100\n",
            "12/12 [==============================] - 9s 793ms/step - loss: 1.5889 - val_loss: 1.6775\n",
            "Epoch 44/100\n",
            "12/12 [==============================] - 9s 794ms/step - loss: 1.5865 - val_loss: 1.6741\n",
            "Epoch 45/100\n",
            "12/12 [==============================] - 10s 796ms/step - loss: 1.5854 - val_loss: 1.6722\n",
            "Epoch 46/100\n",
            "12/12 [==============================] - 9s 792ms/step - loss: 1.5838 - val_loss: 1.6837\n",
            "Epoch 47/100\n",
            "12/12 [==============================] - 9s 792ms/step - loss: 1.5804 - val_loss: 1.6688\n",
            "Epoch 48/100\n",
            "12/12 [==============================] - 9s 796ms/step - loss: 1.5777 - val_loss: 1.6544\n",
            "Epoch 49/100\n",
            "12/12 [==============================] - 9s 793ms/step - loss: 1.5769 - val_loss: 1.6556\n",
            "Epoch 50/100\n",
            "12/12 [==============================] - 9s 792ms/step - loss: 1.5746 - val_loss: 1.6545\n",
            "Epoch 51/100\n",
            "12/12 [==============================] - 9s 795ms/step - loss: 1.5720 - val_loss: 1.6510\n",
            "Epoch 52/100\n",
            "12/12 [==============================] - 10s 797ms/step - loss: 1.5704 - val_loss: 1.6552\n",
            "Epoch 53/100\n",
            "12/12 [==============================] - 10s 801ms/step - loss: 1.5695 - val_loss: 1.6570\n",
            "Epoch 54/100\n",
            "12/12 [==============================] - 10s 797ms/step - loss: 1.5668 - val_loss: 1.6424\n",
            "Epoch 55/100\n",
            "12/12 [==============================] - 9s 792ms/step - loss: 1.5647 - val_loss: 1.6445\n",
            "Epoch 56/100\n",
            "12/12 [==============================] - 9s 795ms/step - loss: 1.5642 - val_loss: 1.6520\n",
            "Epoch 57/100\n",
            "12/12 [==============================] - 9s 794ms/step - loss: 1.5626 - val_loss: 1.6494\n",
            "Epoch 58/100\n",
            "12/12 [==============================] - 10s 796ms/step - loss: 1.5600 - val_loss: 1.6547\n",
            "Epoch 59/100\n",
            "12/12 [==============================] - 10s 798ms/step - loss: 1.5592 - val_loss: 1.6630\n",
            "Epoch 60/100\n",
            "12/12 [==============================] - 9s 795ms/step - loss: 1.5571 - val_loss: 1.6535\n",
            "Epoch 61/100\n",
            "12/12 [==============================] - 10s 797ms/step - loss: 1.5557 - val_loss: 1.6340\n",
            "Epoch 62/100\n",
            "12/12 [==============================] - 9s 794ms/step - loss: 1.5542 - val_loss: 1.6435\n",
            "Epoch 63/100\n",
            "12/12 [==============================] - 9s 795ms/step - loss: 1.5532 - val_loss: 1.6348\n",
            "Epoch 64/100\n",
            "12/12 [==============================] - 10s 796ms/step - loss: 1.5511 - val_loss: 1.6349\n",
            "Epoch 65/100\n",
            "12/12 [==============================] - 9s 794ms/step - loss: 1.5529 - val_loss: 1.6367\n",
            "Epoch 66/100\n",
            "12/12 [==============================] - 9s 795ms/step - loss: 1.5482 - val_loss: 1.6498\n",
            "Epoch 67/100\n",
            "12/12 [==============================] - 9s 795ms/step - loss: 1.5481 - val_loss: 1.6321\n",
            "Epoch 68/100\n",
            "12/12 [==============================] - 9s 793ms/step - loss: 1.5469 - val_loss: 1.6420\n",
            "Epoch 69/100\n",
            "12/12 [==============================] - 10s 797ms/step - loss: 1.5455 - val_loss: 1.6410\n",
            "Epoch 70/100\n",
            "12/12 [==============================] - 10s 798ms/step - loss: 1.5448 - val_loss: 1.6385\n",
            "Epoch 71/100\n",
            "12/12 [==============================] - 9s 794ms/step - loss: 1.5441 - val_loss: 1.6403\n",
            "Epoch 72/100\n",
            "12/12 [==============================] - 10s 796ms/step - loss: 1.5416 - val_loss: 1.6411\n",
            "Epoch 73/100\n",
            "12/12 [==============================] - 9s 793ms/step - loss: 1.5408 - val_loss: 1.6289\n",
            "Epoch 74/100\n",
            "12/12 [==============================] - 10s 797ms/step - loss: 1.5404 - val_loss: 1.6209\n",
            "Epoch 75/100\n",
            "12/12 [==============================] - 10s 797ms/step - loss: 1.5383 - val_loss: 1.6369\n",
            "Epoch 76/100\n",
            "12/12 [==============================] - 9s 794ms/step - loss: 1.5385 - val_loss: 1.6284\n",
            "Epoch 77/100\n",
            "12/12 [==============================] - 9s 793ms/step - loss: 1.5376 - val_loss: 1.6261\n",
            "Epoch 78/100\n",
            "12/12 [==============================] - 10s 796ms/step - loss: 1.5361 - val_loss: 1.6262\n",
            "Epoch 79/100\n",
            "12/12 [==============================] - 9s 796ms/step - loss: 1.5365 - val_loss: 1.6389\n",
            "Epoch 80/100\n",
            "12/12 [==============================] - 9s 793ms/step - loss: 1.5348 - val_loss: 1.6205\n",
            "Epoch 81/100\n",
            "12/12 [==============================] - 9s 792ms/step - loss: 1.5332 - val_loss: 1.6193\n",
            "Epoch 82/100\n",
            "12/12 [==============================] - 9s 795ms/step - loss: 1.5324 - val_loss: 1.6362\n",
            "Epoch 83/100\n",
            "12/12 [==============================] - 9s 794ms/step - loss: 1.5321 - val_loss: 1.6143\n",
            "Epoch 84/100\n",
            "12/12 [==============================] - 10s 797ms/step - loss: 1.5310 - val_loss: 1.6106\n",
            "Epoch 85/100\n",
            "12/12 [==============================] - 9s 795ms/step - loss: 1.5303 - val_loss: 1.6183\n",
            "Epoch 86/100\n",
            "12/12 [==============================] - 10s 797ms/step - loss: 1.5289 - val_loss: 1.6310\n",
            "Epoch 87/100\n",
            "12/12 [==============================] - 10s 795ms/step - loss: 1.5278 - val_loss: 1.6146\n",
            "Epoch 88/100\n",
            "12/12 [==============================] - 10s 796ms/step - loss: 1.5266 - val_loss: 1.6216\n",
            "Epoch 89/100\n",
            "12/12 [==============================] - 10s 798ms/step - loss: 1.5267 - val_loss: 1.6334\n",
            "Epoch 90/100\n",
            "12/12 [==============================] - 9s 794ms/step - loss: 1.5250 - val_loss: 1.6218\n",
            "Epoch 91/100\n",
            "12/12 [==============================] - 9s 792ms/step - loss: 1.5257 - val_loss: 1.6111\n",
            "Epoch 92/100\n",
            "12/12 [==============================] - 9s 795ms/step - loss: 1.5235 - val_loss: 1.6141\n",
            "Epoch 93/100\n",
            "12/12 [==============================] - 9s 793ms/step - loss: 1.5228 - val_loss: 1.6037\n",
            "Epoch 94/100\n",
            "12/12 [==============================] - 9s 794ms/step - loss: 1.5214 - val_loss: 1.6261\n",
            "Epoch 95/100\n",
            "12/12 [==============================] - 9s 793ms/step - loss: 1.5210 - val_loss: 1.6044\n",
            "Epoch 96/100\n",
            "12/12 [==============================] - 9s 794ms/step - loss: 1.5204 - val_loss: 1.6097\n",
            "Epoch 97/100\n",
            "12/12 [==============================] - 9s 792ms/step - loss: 1.5191 - val_loss: 1.6365\n",
            "Epoch 98/100\n",
            "12/12 [==============================] - 10s 796ms/step - loss: 1.5187 - val_loss: 1.6037\n",
            "Epoch 99/100\n",
            "12/12 [==============================] - 9s 793ms/step - loss: 1.5178 - val_loss: 1.6015\n",
            "Epoch 100/100\n",
            "12/12 [==============================] - 9s 792ms/step - loss: 1.5179 - val_loss: 1.6078\n"
          ]
        }
      ]
    },
    {
      "cell_type": "code",
      "source": [
        "import matplotlib.pyplot as plt"
      ],
      "metadata": {
        "id": "LNa-s1ZKjCXu"
      },
      "execution_count": null,
      "outputs": []
    },
    {
      "cell_type": "code",
      "source": [
        "plt.imshow(np_test_images[102])"
      ],
      "metadata": {
        "colab": {
          "base_uri": "https://localhost:8080/",
          "height": 304
        },
        "id": "kkL56hnajJ44",
        "outputId": "5ce1a3e2-8aa8-4976-ea26-4c992b6dc587"
      },
      "execution_count": null,
      "outputs": [
        {
          "output_type": "stream",
          "name": "stderr",
          "text": [
            "Clipping input data to the valid range for imshow with RGB data ([0..1] for floats or [0..255] for integers).\n"
          ]
        },
        {
          "output_type": "execute_result",
          "data": {
            "text/plain": [
              "<matplotlib.image.AxesImage at 0x7f0e6d04be10>"
            ]
          },
          "metadata": {},
          "execution_count": 27
        },
        {
          "output_type": "display_data",
          "data": {
            "text/plain": [
              "<Figure size 432x288 with 1 Axes>"
            ],
            "image/png": "[encoded data removed]"
          },
          "metadata": {
            "needs_background": "light"
          }
        }
      ]
    },
    {
      "cell_type": "code",
      "source": [
        "prediction = model.model.predict(np_test_images[102].reshape(1, 224, 224, 3))"
      ],
      "metadata": {
        "id": "aHwLPMH5jbaQ"
      },
      "execution_count": null,
      "outputs": []
    },
    {
      "cell_type": "code",
      "source": [
        "final_prediction = np.argmax(prediction.reshape(1, 224, 224, 12), -1)"
      ],
      "metadata": {
        "id": "9ygpEexzjpIW"
      },
      "execution_count": null,
      "outputs": []
    },
    {
      "cell_type": "code",
      "source": [
        "plt.imshow(final_prediction[0])"
      ],
      "metadata": {
        "colab": {
          "base_uri": "https://localhost:8080/",
          "height": 286
        },
        "id": "tM_kyEuujRc_",
        "outputId": "e4b4798a-0875-4778-bcb1-4341ec00bd04"
      },
      "execution_count": null,
      "outputs": [
        {
          "output_type": "execute_result",
          "data": {
            "text/plain": [
              "<matplotlib.image.AxesImage at 0x7f0e6c28d550>"
            ]
          },
          "metadata": {},
          "execution_count": 41
        },
        {
          "output_type": "display_data",
          "data": {
            "text/plain": [
              "<Figure size 432x288 with 1 Axes>"
            ],
            "image/png": "[encoded data removed]"
          },
          "metadata": {
            "needs_background": "light"
          }
        }
      ]
    },
    {
      "cell_type": "code",
      "source": [
        "final_prediction"
      ],
      "metadata": {
        "colab": {
          "base_uri": "https://localhost:8080/"
        },
        "id": "DP-J3GC9j2SR",
        "outputId": "c19bbe6e-21db-49b2-aa45-9f64ca27af00"
      },
      "execution_count": null,
      "outputs": [
        {
          "output_type": "execute_result",
          "data": {
            "text/plain": [
              "array([[[1, 0, 1, ..., 0, 0, 0],\n",
              "        [1, 1, 0, ..., 0, 0, 0],\n",
              "        [1, 5, 0, ..., 0, 0, 1],\n",
              "        ...,\n",
              "        [1, 3, 3, ..., 3, 3, 3],\n",
              "        [3, 3, 3, ..., 3, 3, 3],\n",
              "        [3, 3, 3, ..., 3, 3, 3]]])"
            ]
          },
          "metadata": {},
          "execution_count": 39
        }
      ]
    }
  ]
}